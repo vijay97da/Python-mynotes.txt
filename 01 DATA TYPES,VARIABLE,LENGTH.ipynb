{
 "cells": [
  {
   "cell_type": "markdown",
   "id": "a89600fb",
   "metadata": {},
   "source": [
    "# PRINT FUNCTION"
   ]
  },
  {
   "cell_type": "code",
   "execution_count": 2,
   "id": "02abfe61",
   "metadata": {},
   "outputs": [],
   "source": [
    "#PRINT FUNCTION IS USED TO PRINT EVERY THING IN PYTHON EX-"
   ]
  },
  {
   "cell_type": "code",
   "execution_count": 3,
   "id": "d59bc30f",
   "metadata": {},
   "outputs": [
    {
     "name": "stdout",
     "output_type": "stream",
     "text": [
      "hare krishna\n"
     ]
    }
   ],
   "source": [
    "print(\"hare krishna\") "
   ]
  },
  {
   "cell_type": "code",
   "execution_count": 7,
   "id": "44b7ebbe",
   "metadata": {},
   "outputs": [],
   "source": [
    "#whenever you want to print alphabet u must need to add double inverted commas if you forgot then u will see the error Ex-"
   ]
  },
  {
   "cell_type": "code",
   "execution_count": 8,
   "id": "da57c457",
   "metadata": {},
   "outputs": [
    {
     "ename": "NameError",
     "evalue": "name 'vijay' is not defined",
     "output_type": "error",
     "traceback": [
      "\u001b[1;31m---------------------------------------------------------------------------\u001b[0m",
      "\u001b[1;31mNameError\u001b[0m                                 Traceback (most recent call last)",
      "Cell \u001b[1;32mIn[8], line 1\u001b[0m\n\u001b[1;32m----> 1\u001b[0m \u001b[38;5;28mprint\u001b[39m(vijay)\n",
      "\u001b[1;31mNameError\u001b[0m: name 'vijay' is not defined"
     ]
    }
   ],
   "source": [
    "print(vijay)"
   ]
  },
  {
   "cell_type": "code",
   "execution_count": 9,
   "id": "a4fb2d29",
   "metadata": {},
   "outputs": [
    {
     "name": "stdout",
     "output_type": "stream",
     "text": [
      "hare krishna\n"
     ]
    }
   ],
   "source": [
    "print('hare krishna') #single inverted comma is also works well but according to coding law double is must"
   ]
  },
  {
   "cell_type": "code",
   "execution_count": 13,
   "id": "ec865b3a",
   "metadata": {},
   "outputs": [
    {
     "name": "stdout",
     "output_type": "stream",
     "text": [
      "2 3 4 5 7\n"
     ]
    }
   ],
   "source": [
    "print(2,3,4,5,7)"
   ]
  },
  {
   "cell_type": "markdown",
   "id": "70f1f18b",
   "metadata": {},
   "source": [
    "# DATA TYPES"
   ]
  },
  {
   "cell_type": "code",
   "execution_count": null,
   "id": "63073df5",
   "metadata": {},
   "outputs": [],
   "source": [
    "string = a to z \"_____\" # if you add anything in double inverted comma it will change in string automatically\n",
    "\n",
    "integer = 1 to 9\n",
    "\n",
    "float   = 1.0,1.5,etc \n",
    "\n",
    "complex = 88 + 8j\n",
    "\n",
    "boolen  = True/False 1/2\n",
    "\n",
    "list = [\"vijay\",94, 19+5j,True]\n",
    "\n",
    "set = {\"vijay\",19,False}\n",
    "\n",
    "tuple = (\"vijay\",19,\"six\",19.94)\n",
    "\n",
    "dict = {\"vijay\":29,\"swapnil\":27}\n",
    "\n"
   ]
  },
  {
   "cell_type": "code",
   "execution_count": 17,
   "id": "ace4a62e",
   "metadata": {},
   "outputs": [],
   "source": [
    "supreme = \"krishna\" #whatever u added before = called VARIABLE & if u type variable u will see result that u added after ="
   ]
  },
  {
   "cell_type": "code",
   "execution_count": 18,
   "id": "de6cdac4",
   "metadata": {},
   "outputs": [
    {
     "data": {
      "text/plain": [
       "'krishna'"
      ]
     },
     "execution_count": 18,
     "metadata": {},
     "output_type": "execute_result"
    }
   ],
   "source": [
    "supreme"
   ]
  },
  {
   "cell_type": "markdown",
   "id": "63b8a3cf",
   "metadata": {},
   "source": [
    "# TYPE FUNCTION"
   ]
  },
  {
   "cell_type": "markdown",
   "id": "342ce2ff",
   "metadata": {},
   "source": [
    "# & LENTH FUNCTIONA"
   ]
  },
  {
   "cell_type": "code",
   "execution_count": 19,
   "id": "c71a69da",
   "metadata": {},
   "outputs": [],
   "source": [
    "#THIS FUNCTION IS USED FOR CHECK THE DATA TYPE EX-"
   ]
  },
  {
   "cell_type": "code",
   "execution_count": 20,
   "id": "caa913df",
   "metadata": {},
   "outputs": [
    {
     "data": {
      "text/plain": [
       "str"
      ]
     },
     "execution_count": 20,
     "metadata": {},
     "output_type": "execute_result"
    }
   ],
   "source": [
    "type(supreme)"
   ]
  },
  {
   "cell_type": "code",
   "execution_count": 1,
   "id": "e03a98a7",
   "metadata": {},
   "outputs": [],
   "source": [
    "string =(\"vijay is the best\")"
   ]
  },
  {
   "cell_type": "code",
   "execution_count": 2,
   "id": "3f18b28a",
   "metadata": {},
   "outputs": [
    {
     "data": {
      "text/plain": [
       "str"
      ]
     },
     "execution_count": 2,
     "metadata": {},
     "output_type": "execute_result"
    }
   ],
   "source": [
    "type(string)"
   ]
  },
  {
   "cell_type": "code",
   "execution_count": 3,
   "id": "12b1f41e",
   "metadata": {},
   "outputs": [
    {
     "data": {
      "text/plain": [
       "17"
      ]
     },
     "execution_count": 3,
     "metadata": {},
     "output_type": "execute_result"
    }
   ],
   "source": [
    "len(string)"
   ]
  },
  {
   "cell_type": "code",
   "execution_count": 5,
   "id": "a2c0db26",
   "metadata": {},
   "outputs": [],
   "source": [
    "integer = 45"
   ]
  },
  {
   "cell_type": "code",
   "execution_count": 6,
   "id": "73fd2fc9",
   "metadata": {},
   "outputs": [
    {
     "data": {
      "text/plain": [
       "int"
      ]
     },
     "execution_count": 6,
     "metadata": {},
     "output_type": "execute_result"
    }
   ],
   "source": [
    "type(integer)"
   ]
  },
  {
   "cell_type": "code",
   "execution_count": 20,
   "id": "6fb47b38",
   "metadata": {},
   "outputs": [
    {
     "ename": "TypeError",
     "evalue": "object of type 'int' has no len()",
     "output_type": "error",
     "traceback": [
      "\u001b[1;31m---------------------------------------------------------------------------\u001b[0m",
      "\u001b[1;31mTypeError\u001b[0m                                 Traceback (most recent call last)",
      "Cell \u001b[1;32mIn[20], line 1\u001b[0m\n\u001b[1;32m----> 1\u001b[0m \u001b[38;5;28mlen\u001b[39m(integer)\n",
      "\u001b[1;31mTypeError\u001b[0m: object of type 'int' has no len()"
     ]
    }
   ],
   "source": [
    "len(integer) # u can not find the lenth of integer,float & complex by using len function"
   ]
  },
  {
   "cell_type": "code",
   "execution_count": 21,
   "id": "3dd2de4a",
   "metadata": {},
   "outputs": [],
   "source": [
    "float = 4.5"
   ]
  },
  {
   "cell_type": "code",
   "execution_count": 22,
   "id": "8375c6c9",
   "metadata": {},
   "outputs": [
    {
     "data": {
      "text/plain": [
       "float"
      ]
     },
     "execution_count": 22,
     "metadata": {},
     "output_type": "execute_result"
    }
   ],
   "source": [
    "type(float)"
   ]
  },
  {
   "cell_type": "code",
   "execution_count": 23,
   "id": "c5477612",
   "metadata": {},
   "outputs": [],
   "source": [
    "tuple = (\"vijay\",45,4.5,True)"
   ]
  },
  {
   "cell_type": "code",
   "execution_count": 24,
   "id": "f6becea6",
   "metadata": {},
   "outputs": [
    {
     "data": {
      "text/plain": [
       "4"
      ]
     },
     "execution_count": 24,
     "metadata": {},
     "output_type": "execute_result"
    }
   ],
   "source": [
    "len(tuple) #if there is commas between the string the len function comma as one"
   ]
  },
  {
   "cell_type": "code",
   "execution_count": 25,
   "id": "f4a9eff9",
   "metadata": {},
   "outputs": [
    {
     "data": {
      "text/plain": [
       "tuple"
      ]
     },
     "execution_count": 25,
     "metadata": {},
     "output_type": "execute_result"
    }
   ],
   "source": [
    "type(tuple)"
   ]
  },
  {
   "cell_type": "code",
   "execution_count": 18,
   "id": "b21afb6b",
   "metadata": {},
   "outputs": [],
   "source": [
    "complex = 45+4j"
   ]
  },
  {
   "cell_type": "code",
   "execution_count": 27,
   "id": "16e081c5",
   "metadata": {},
   "outputs": [],
   "source": [
    "list = [\"vijay\",786, 4.5, False]"
   ]
  },
  {
   "cell_type": "code",
   "execution_count": 28,
   "id": "09a63924",
   "metadata": {},
   "outputs": [
    {
     "data": {
      "text/plain": [
       "4"
      ]
     },
     "execution_count": 28,
     "metadata": {},
     "output_type": "execute_result"
    }
   ],
   "source": [
    "len(list)"
   ]
  },
  {
   "cell_type": "code",
   "execution_count": 29,
   "id": "044b883e",
   "metadata": {},
   "outputs": [
    {
     "data": {
      "text/plain": [
       "list"
      ]
     },
     "execution_count": 29,
     "metadata": {},
     "output_type": "execute_result"
    }
   ],
   "source": [
    "type(list)"
   ]
  },
  {
   "cell_type": "code",
   "execution_count": 31,
   "id": "983f24d8",
   "metadata": {},
   "outputs": [],
   "source": [
    "dictionary = {\"vijay\":29, \"krishna\":\"infenite\"}"
   ]
  },
  {
   "cell_type": "code",
   "execution_count": 32,
   "id": "f6b44202",
   "metadata": {},
   "outputs": [
    {
     "data": {
      "text/plain": [
       "2"
      ]
     },
     "execution_count": 32,
     "metadata": {},
     "output_type": "execute_result"
    }
   ],
   "source": [
    "len(dictionary)"
   ]
  },
  {
   "cell_type": "code",
   "execution_count": 33,
   "id": "f07c058a",
   "metadata": {},
   "outputs": [
    {
     "data": {
      "text/plain": [
       "dict"
      ]
     },
     "execution_count": 33,
     "metadata": {},
     "output_type": "execute_result"
    }
   ],
   "source": [
    "type(dictionary)"
   ]
  },
  {
   "cell_type": "code",
   "execution_count": 34,
   "id": "4015cc68",
   "metadata": {},
   "outputs": [],
   "source": [
    "set = {\"krishna\",\"radha rani\",143,True}"
   ]
  },
  {
   "cell_type": "code",
   "execution_count": 35,
   "id": "5854ab41",
   "metadata": {},
   "outputs": [
    {
     "data": {
      "text/plain": [
       "set"
      ]
     },
     "execution_count": 35,
     "metadata": {},
     "output_type": "execute_result"
    }
   ],
   "source": [
    "type(set)"
   ]
  },
  {
   "cell_type": "code",
   "execution_count": 36,
   "id": "d5bdca0b",
   "metadata": {},
   "outputs": [
    {
     "data": {
      "text/plain": [
       "4"
      ]
     },
     "execution_count": 36,
     "metadata": {},
     "output_type": "execute_result"
    }
   ],
   "source": [
    "len(set)"
   ]
  },
  {
   "cell_type": "code",
   "execution_count": 45,
   "id": "c8abd5d9",
   "metadata": {},
   "outputs": [
    {
     "ename": "ZeroDivisionError",
     "evalue": "division by zero",
     "output_type": "error",
     "traceback": [
      "\u001b[1;31m---------------------------------------------------------------------------\u001b[0m",
      "\u001b[1;31mZeroDivisionError\u001b[0m                         Traceback (most recent call last)",
      "Cell \u001b[1;32mIn[45], line 1\u001b[0m\n\u001b[1;32m----> 1\u001b[0m boolen \u001b[38;5;241m=\u001b[39m \u001b[38;5;28;01mTrue\u001b[39;00m\u001b[38;5;241m/\u001b[39m\u001b[38;5;28;01mFalse\u001b[39;00m, \u001b[38;5;241m2\u001b[39m\u001b[38;5;241m/\u001b[39m\u001b[38;5;241m8\u001b[39m\n",
      "\u001b[1;31mZeroDivisionError\u001b[0m: division by zero"
     ]
    }
   ],
   "source": [
    "boolen = True/False, 2/8"
   ]
  },
  {
   "cell_type": "code",
   "execution_count": 46,
   "id": "fc1878d3",
   "metadata": {},
   "outputs": [
    {
     "ename": "NameError",
     "evalue": "name 'boolen' is not defined",
     "output_type": "error",
     "traceback": [
      "\u001b[1;31m---------------------------------------------------------------------------\u001b[0m",
      "\u001b[1;31mNameError\u001b[0m                                 Traceback (most recent call last)",
      "Cell \u001b[1;32mIn[46], line 1\u001b[0m\n\u001b[1;32m----> 1\u001b[0m \u001b[38;5;28mlen\u001b[39m(boolen)\n",
      "\u001b[1;31mNameError\u001b[0m: name 'boolen' is not defined"
     ]
    }
   ],
   "source": [
    "len(boolen)"
   ]
  },
  {
   "cell_type": "markdown",
   "id": "b356f59f",
   "metadata": {},
   "source": [
    "# VARIBALE"
   ]
  },
  {
   "cell_type": "code",
   "execution_count": 48,
   "id": "84331274",
   "metadata": {},
   "outputs": [],
   "source": [
    "#VARIBALE CANNOT START WITH NUMBER OR THE SPEACIAL CHARACTERS\n",
    "#SPECIAL CHARACTER ARE ALSO NOT ALLOWED BETWEEN THE VARIBALE OR IN THE LAST\n",
    "#SPACE IS ALSO NOT ALLOWED IN VARIABLE YOU CAN USE UNDERSCORE INSTEAD OF SPACE EX-vij"
   ]
  },
  {
   "cell_type": "code",
   "execution_count": 49,
   "id": "27a74a9e",
   "metadata": {},
   "outputs": [],
   "source": [
    "VIJAY = (\"BEST IN SAPALOGY\") ok\n",
    "vijay_19 = ok\n",
    "19vijay = x\n",
    "vijay& = x\n",
    "vijay kshirsagar = x\n",
    "vijay_kshirsagar = ok"
   ]
  },
  {
   "cell_type": "code",
   "execution_count": 51,
   "id": "617ce34c",
   "metadata": {},
   "outputs": [
    {
     "name": "stdout",
     "output_type": "stream",
     "text": [
      "BEST IN SAPALOGY\n"
     ]
    }
   ],
   "source": [
    "print(VIJAY)"
   ]
  },
  {
   "cell_type": "code",
   "execution_count": null,
   "id": "1aef3a93",
   "metadata": {},
   "outputs": [],
   "source": [
    "sr_1 = (\"kunal is banker\")\n",
    "\n",
    "t_1 = (\"kunal\", \"is\", \"banker\")\n",
    "\n",
    "t_2 = (\"kunal\", \"is\", \"banker\", 33, 6.8, True)\n",
    "\n",
    "l_1 = [\"kunal\", \"is\", \"banker\", 33, 6.8, True]\n",
    "\n",
    "s_1  = {\"kunal\", \"is\", \"banker\", 33, 6.8, True}\n",
    "\n",
    "d_1 = { \"name\" : \"kunal\", \"job\" :\"banker\", \"age\" : 33,  \"status\": True }"
   ]
  },
  {
   "cell_type": "code",
   "execution_count": null,
   "id": "eb850372",
   "metadata": {},
   "outputs": [],
   "source": [
    "# Data types:\n",
    "\n",
    "string = smith\n",
    "int = 7\n",
    "float = 6.9\n",
    "Boolen = True\n",
    "complex = 3x+4y+z"
   ]
  }
 ],
 "metadata": {
  "kernelspec": {
   "display_name": "Python 3 (ipykernel)",
   "language": "python",
   "name": "python3"
  },
  "language_info": {
   "codemirror_mode": {
    "name": "ipython",
    "version": 3
   },
   "file_extension": ".py",
   "mimetype": "text/x-python",
   "name": "python",
   "nbconvert_exporter": "python",
   "pygments_lexer": "ipython3",
   "version": "3.11.5"
  }
 },
 "nbformat": 4,
 "nbformat_minor": 5
}
